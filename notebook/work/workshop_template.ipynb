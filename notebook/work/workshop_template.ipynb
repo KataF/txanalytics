{
 "cells": [
  {
   "cell_type": "markdown",
   "metadata": {},
   "source": [
    "## Exercise\n",
    "\n",
    "The task is to analyze payment transactions that happenned in one of the banks that provides open **API**. \n",
    "\n",
    "Except of outgoing and incoming payments the bank also supports bookeeping features for transaction such as\n",
    "\n",
    "* Uploading attachements (screenshots, photos, invoices) to transactions\n",
    "* Categorisation of transations\n",
    "* Assinging VAT for transactions"
   ]
  },
  {
   "cell_type": "markdown",
   "metadata": {},
   "source": [
    "## Possibile Business Questions to Answer\n",
    "\n",
    "The analysis of the available data should answer the next business questions from two sections:\n",
    "\n",
    "**1. Payment Transactions Volumes**\n",
    "\n",
    "    1.1. Transactions\n",
    "    \n",
    "        1.1.1. Total number of transactions per type\n",
    "        \n",
    "        1.1.1. Daily number of transactions\n",
    "        \n",
    "        1.1.2. Daily number of transactions by type\n",
    "        \n",
    "    \n",
    "    1.2. Transacting accounts\n",
    "\n",
    "        1.2.1. Daily number of transacting accounts\n",
    "        \n",
    "        1.2.2. Monthly number of transacting accounts\n",
    "    \n",
    "    1.3. Function to calculate a balance for given user account (with optional given date)\n",
    "        \n",
    "        1.3.1. Test the function on a couple of accounts\n",
    "        \n",
    "        1.3.2. Assign last known balance to each account\n",
    "        \n",
    "    \n",
    "    1.4. Users balance distribution\n",
    "\n",
    "         1.4.1. Accounts balance (last known) distribution\n",
    "         \n",
    "         1.4.2. Accounts balance distribution for specific date\n",
    "\n",
    "    \n",
    "    1.5. Accounts cohorts by balance\n",
    "    \n",
    "        1.5.1. Accounts distribution between cohorts (e.g., < 1000 EUR, 1000 <= 10000, > 10000)\n",
    "\n",
    "        1.5.2. Assign cohort to each account\n",
    "        \n",
    "   \n",
    "    \n",
    "\n",
    "    \n",
    "**2. Bookkeping Feature Usage**\n",
    "\n",
    "    2.1. Adoption of Attachements, Categorisation, VAT features\n",
    "    \n",
    "        2.1.1. Daily number of transaction withattachments\n",
    "        \n",
    "        2.1.2. Percentage of transactions with attachments (daily)\n",
    "        \n",
    "        2.1.3. Daily number of transactions with categories\n",
    "        \n",
    "        2.1.4. Percentage of transactions with categories (daily)\n",
    "        \n",
    "        2.1.5. Daily number of transaction with VAT selected\n",
    "        \n",
    "        2.1.6. Percentage of transactions with attachments (daily)\n",
    "    \n",
    "    2.2. Transactions readiness for bookkeeping\n",
    "    \n",
    "    2.3. Accounts readiness for bookkeeping\n",
    "    \n",
    "    2.4. Percentage of not VAT liable accounts\n",
    "    \n",
    "    2.5. Top used categories\n",
    "    \n",
    "    2.6. Distribution of attachements file extensions\n",
    "    \n",
    "    2.7. Time to add an attachement\n",
    "    \n",
    "    2.8. Time to select a category\n",
    "    \n",
    "\n",
    "3. Some other interesting insights\n",
    "\n",
    "    3.1. Transacting accounts registered (daily/monthly)\n",
    "    \n",
    "    ...\n"
   ]
  },
  {
   "cell_type": "markdown",
   "metadata": {},
   "source": [
    "## Steps\n",
    "\n",
    "### 1. Data Retrieval\n",
    "    - Reliably download data via API\n",
    "\n",
    "\n",
    "### 2. Data preparation\n",
    "    - Clean and prepare data retrieved via API\n",
    "\n",
    "\n",
    "### 3. Exploratory Data Analysis \n",
    "    - Answering business questions\n",
    "    - Numbers\n",
    "    - Visualizations"
   ]
  },
  {
   "cell_type": "markdown",
   "metadata": {},
   "source": [
    "## 1. Data Retrieval"
   ]
  },
  {
   "cell_type": "markdown",
   "metadata": {},
   "source": [
    "Let's download the data about payment transactions via API. The API documentation can be found here: http://localhost:8022/docs (Will be change to some real domain)"
   ]
  },
  {
   "cell_type": "code",
   "execution_count": 1,
   "metadata": {},
   "outputs": [],
   "source": [
    "import requests"
   ]
  },
  {
   "cell_type": "code",
   "execution_count": 2,
   "metadata": {},
   "outputs": [],
   "source": [
    "url = 'http://localhost:8022/api/v1/transactions' # Will be change to some real domain"
   ]
  },
  {
   "cell_type": "code",
   "execution_count": 1,
   "metadata": {
    "scrolled": true
   },
   "outputs": [],
   "source": [
    "data = []"
   ]
  },
  {
   "cell_type": "code",
   "execution_count": 2,
   "metadata": {},
   "outputs": [
    {
     "name": "stdout",
     "output_type": "stream",
     "text": [
      "Total transactions 0\n"
     ]
    }
   ],
   "source": [
    "print('Total transactions %s' % len(data))"
   ]
  },
  {
   "cell_type": "markdown",
   "metadata": {},
   "source": [
    "## 2. Data preparation"
   ]
  },
  {
   "cell_type": "markdown",
   "metadata": {},
   "source": [
    "Loading the data to DataFrame"
   ]
  },
  {
   "cell_type": "code",
   "execution_count": 6,
   "metadata": {},
   "outputs": [],
   "source": [
    "import pandas as pd"
   ]
  },
  {
   "cell_type": "markdown",
   "metadata": {},
   "source": [
    "We need to load **transactions data** to Pandas dataframe. Consider that we have nested data in JSON."
   ]
  },
  {
   "cell_type": "code",
   "execution_count": 3,
   "metadata": {},
   "outputs": [],
   "source": [
    "txs_df = None"
   ]
  },
  {
   "cell_type": "markdown",
   "metadata": {},
   "source": [
    "Transactions Data overview:"
   ]
  },
  {
   "cell_type": "code",
   "execution_count": null,
   "metadata": {
    "scrolled": true
   },
   "outputs": [],
   "source": []
  },
  {
   "cell_type": "markdown",
   "metadata": {},
   "source": [
    "We have some important data as timestamps, but as we can such such columns are just `str` instances which might make analysis harder. Which should be converted to real `Timstamps`."
   ]
  },
  {
   "cell_type": "markdown",
   "metadata": {},
   "source": [
    "Let's convert them to the real Timestamps:"
   ]
  },
  {
   "cell_type": "code",
   "execution_count": 4,
   "metadata": {},
   "outputs": [],
   "source": [
    "def convert_str_to_datetime(df, columns):\n",
    "    pass "
   ]
  },
  {
   "cell_type": "markdown",
   "metadata": {},
   "source": [
    "Let's also create separate datasets for Accounts, Attachments, Categories:"
   ]
  },
  {
   "cell_type": "code",
   "execution_count": 5,
   "metadata": {},
   "outputs": [],
   "source": [
    "accounts_df = None"
   ]
  },
  {
   "cell_type": "code",
   "execution_count": 15,
   "metadata": {},
   "outputs": [],
   "source": [
    "categories_df = None"
   ]
  },
  {
   "cell_type": "code",
   "execution_count": 6,
   "metadata": {},
   "outputs": [],
   "source": [
    "attachments_df = None"
   ]
  },
  {
   "cell_type": "markdown",
   "metadata": {},
   "source": [
    "## 3. Exploratory Data Analysis "
   ]
  },
  {
   "cell_type": "code",
   "execution_count": 18,
   "metadata": {},
   "outputs": [],
   "source": [
    "import matplotlib.pyplot as plt\n",
    "%matplotlib inline"
   ]
  },
  {
   "cell_type": "markdown",
   "metadata": {},
   "source": [
    "### 1. Payment Volumes Analysis"
   ]
  },
  {
   "cell_type": "markdown",
   "metadata": {},
   "source": [
    "### 1.1. Transactions"
   ]
  },
  {
   "cell_type": "markdown",
   "metadata": {},
   "source": [
    "**1.1.1. Total number of transactions by type**"
   ]
  },
  {
   "cell_type": "code",
   "execution_count": null,
   "metadata": {},
   "outputs": [],
   "source": []
  },
  {
   "cell_type": "markdown",
   "metadata": {},
   "source": [
    "#### 1.1.2. Daily number of transactions by type"
   ]
  },
  {
   "cell_type": "markdown",
   "metadata": {},
   "source": [
    "Daily number of all transactions:"
   ]
  },
  {
   "cell_type": "code",
   "execution_count": null,
   "metadata": {},
   "outputs": [],
   "source": []
  },
  {
   "cell_type": "markdown",
   "metadata": {},
   "source": [
    "Daily number of transactions by type:"
   ]
  },
  {
   "cell_type": "code",
   "execution_count": null,
   "metadata": {},
   "outputs": [],
   "source": []
  },
  {
   "cell_type": "markdown",
   "metadata": {},
   "source": [
    "#### 1.2.  Daily/monthly transacting accounts"
   ]
  },
  {
   "cell_type": "markdown",
   "metadata": {},
   "source": [
    "Daily:"
   ]
  },
  {
   "cell_type": "code",
   "execution_count": null,
   "metadata": {},
   "outputs": [],
   "source": []
  },
  {
   "cell_type": "markdown",
   "metadata": {},
   "source": [
    "Monthly:"
   ]
  },
  {
   "cell_type": "code",
   "execution_count": null,
   "metadata": {},
   "outputs": [],
   "source": []
  },
  {
   "cell_type": "markdown",
   "metadata": {},
   "source": [
    "#### 1.3.1. Function to calculate a balance for given user account for given date"
   ]
  },
  {
   "cell_type": "code",
   "execution_count": 7,
   "metadata": {},
   "outputs": [],
   "source": [
    "def get_account_balance(account_id, txs_df, for_date=None):\n",
    "    return 0.0"
   ]
  },
  {
   "cell_type": "markdown",
   "metadata": {},
   "source": [
    "Test for one account:"
   ]
  },
  {
   "cell_type": "code",
   "execution_count": 8,
   "metadata": {},
   "outputs": [
    {
     "data": {
      "text/plain": [
       "0.0"
      ]
     },
     "execution_count": 8,
     "metadata": {},
     "output_type": "execute_result"
    }
   ],
   "source": [
    "import datetime\n",
    "account_id = 'test-id'\n",
    "get_account_balance(account_id, txs_df, datetime.date(2019, 10, 10))"
   ]
  },
  {
   "cell_type": "markdown",
   "metadata": {},
   "source": [
    "#### 1.3.2. Calculate and assign last known balance for all accounts"
   ]
  },
  {
   "cell_type": "code",
   "execution_count": 9,
   "metadata": {},
   "outputs": [],
   "source": [
    "def get_balances(accounts_df, txs_df, for_date=None):\n",
    "    balances = []\n",
    "    return balances"
   ]
  },
  {
   "cell_type": "markdown",
   "metadata": {},
   "source": [
    "Assign balance for each account:"
   ]
  },
  {
   "cell_type": "code",
   "execution_count": null,
   "metadata": {},
   "outputs": [],
   "source": []
  },
  {
   "cell_type": "markdown",
   "metadata": {},
   "source": [
    "Total liquidity managed by the bank on all accounts:"
   ]
  },
  {
   "cell_type": "code",
   "execution_count": null,
   "metadata": {},
   "outputs": [],
   "source": []
  },
  {
   "cell_type": "markdown",
   "metadata": {},
   "source": [
    "#### 1.4. Accounts balance distrubution"
   ]
  },
  {
   "cell_type": "markdown",
   "metadata": {},
   "source": [
    "Last known account balance distrubution:"
   ]
  },
  {
   "cell_type": "code",
   "execution_count": null,
   "metadata": {},
   "outputs": [],
   "source": []
  },
  {
   "cell_type": "markdown",
   "metadata": {},
   "source": [
    "#### 1.5. Accounts cohorts"
   ]
  },
  {
   "cell_type": "code",
   "execution_count": null,
   "metadata": {},
   "outputs": [],
   "source": []
  },
  {
   "cell_type": "markdown",
   "metadata": {},
   "source": [
    "### 2. Bookkeping Feature Usage"
   ]
  },
  {
   "cell_type": "markdown",
   "metadata": {},
   "source": [
    "### 2.1. Adoption of Attachements, Categorisation, VAT features"
   ]
  },
  {
   "cell_type": "markdown",
   "metadata": {},
   "source": [
    "#### 2.1.1. Daily number of transaction with attachments"
   ]
  },
  {
   "cell_type": "code",
   "execution_count": null,
   "metadata": {},
   "outputs": [],
   "source": []
  },
  {
   "cell_type": "markdown",
   "metadata": {},
   "source": [
    "#### 2.1.2. Percentage of transactions with attachments (daily)"
   ]
  },
  {
   "cell_type": "markdown",
   "metadata": {},
   "source": []
  },
  {
   "cell_type": "markdown",
   "metadata": {},
   "source": [
    "#### 2.1.3. Daily number of transactions with categories"
   ]
  },
  {
   "cell_type": "code",
   "execution_count": null,
   "metadata": {},
   "outputs": [],
   "source": []
  },
  {
   "cell_type": "markdown",
   "metadata": {},
   "source": [
    "#### 2.1.4. Percentage of transactions with categories (daily)"
   ]
  },
  {
   "cell_type": "code",
   "execution_count": null,
   "metadata": {},
   "outputs": [],
   "source": []
  },
  {
   "cell_type": "markdown",
   "metadata": {},
   "source": [
    "#### 2.1.5. Daily number of transaction with VAT selected"
   ]
  },
  {
   "cell_type": "code",
   "execution_count": null,
   "metadata": {},
   "outputs": [],
   "source": []
  },
  {
   "cell_type": "markdown",
   "metadata": {},
   "source": [
    "#### 2.1.6. Percentage of transactions with attachments (daily)"
   ]
  },
  {
   "cell_type": "code",
   "execution_count": null,
   "metadata": {},
   "outputs": [],
   "source": []
  },
  {
   "cell_type": "markdown",
   "metadata": {},
   "source": [
    "### 2.2. Transactions readiness for bookeeping"
   ]
  },
  {
   "cell_type": "markdown",
   "metadata": {},
   "source": [
    "Transaction is considered *ready for bookkeping* if it has at least one **attachment**, some **category** selected and **VAT rate** assigned."
   ]
  },
  {
   "cell_type": "code",
   "execution_count": null,
   "metadata": {},
   "outputs": [],
   "source": []
  },
  {
   "cell_type": "markdown",
   "metadata": {},
   "source": [
    "### 2.3. Accounts readiness for bookkeeping"
   ]
  },
  {
   "cell_type": "markdown",
   "metadata": {},
   "source": [
    "Account is considered *ready for bookkeping* if **all its transactions** are *ready for bookkeping*."
   ]
  },
  {
   "cell_type": "code",
   "execution_count": null,
   "metadata": {},
   "outputs": [],
   "source": []
  },
  {
   "cell_type": "markdown",
   "metadata": {},
   "source": [
    "### 2.4. Percentage of not VAT liable accounts"
   ]
  },
  {
   "cell_type": "markdown",
   "metadata": {},
   "source": [
    "Account can be considered as *not VAT liable* if all its transactions has `vat_rate == 'not_liable'`."
   ]
  },
  {
   "cell_type": "code",
   "execution_count": null,
   "metadata": {},
   "outputs": [],
   "source": []
  },
  {
   "cell_type": "markdown",
   "metadata": {},
   "source": [
    "### 2.5. Top used categories"
   ]
  },
  {
   "cell_type": "code",
   "execution_count": null,
   "metadata": {},
   "outputs": [],
   "source": []
  },
  {
   "cell_type": "markdown",
   "metadata": {},
   "source": [
    "### 2.6. Distribution of attachments file extensions"
   ]
  },
  {
   "cell_type": "code",
   "execution_count": null,
   "metadata": {},
   "outputs": [],
   "source": []
  },
  {
   "cell_type": "markdown",
   "metadata": {},
   "source": [
    "### 2.7. Time to add an attachment"
   ]
  },
  {
   "cell_type": "markdown",
   "metadata": {},
   "source": [
    "- Average and Median times from transaction creation to attachment added\n",
    "- Average and Median times from transaction creation to the first attachment added"
   ]
  },
  {
   "cell_type": "code",
   "execution_count": null,
   "metadata": {},
   "outputs": [],
   "source": []
  },
  {
   "cell_type": "markdown",
   "metadata": {},
   "source": [
    "### 2.8. Time to select a category"
   ]
  },
  {
   "cell_type": "markdown",
   "metadata": {},
   "source": [
    "- Average and Median times from transaction creation to category selected"
   ]
  },
  {
   "cell_type": "code",
   "execution_count": null,
   "metadata": {},
   "outputs": [],
   "source": []
  },
  {
   "cell_type": "markdown",
   "metadata": {},
   "source": [
    "### 3. Other interesting insights\n"
   ]
  },
  {
   "cell_type": "markdown",
   "metadata": {},
   "source": [
    "#### 3.1.Transacting accounts registered daily/monhly"
   ]
  },
  {
   "cell_type": "markdown",
   "metadata": {},
   "source": [
    "Almost the same as Daily transating accounts, but by the create time of accounts"
   ]
  },
  {
   "cell_type": "code",
   "execution_count": null,
   "metadata": {},
   "outputs": [],
   "source": []
  }
 ],
 "metadata": {
  "kernelspec": {
   "display_name": "Python 2",
   "language": "python",
   "name": "python2"
  },
  "language_info": {
   "codemirror_mode": {
    "name": "ipython",
    "version": 2
   },
   "file_extension": ".py",
   "mimetype": "text/x-python",
   "name": "python",
   "nbconvert_exporter": "python",
   "pygments_lexer": "ipython2",
   "version": "2.7.10"
  }
 },
 "nbformat": 4,
 "nbformat_minor": 2
}
